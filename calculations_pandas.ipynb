{
 "cells": [
  {
   "cell_type": "markdown",
   "id": "92ae4ac5",
   "metadata": {},
   "source": [
    "Задание 1\n",
    "Импортируйте библиотеку Pandas и дайте ей псевдоним pd. Создайте датафрейм authors со столбцами author_id и author_name, в которых соответственно содержатся данные: [1, 2, 3] и ['Тургенев', 'Чехов', 'Островский'].\n",
    "Затем создайте датафрейм book cо столбцами author_id, book_title и price, в которых соответственно содержатся данные:  \n",
    "[1, 1, 1, 2, 2, 3, 3],\n",
    "['Отцы и дети', 'Рудин', 'Дворянское гнездо', 'Толстый и тонкий', 'Дама с собачкой', 'Гроза', 'Таланты и поклонники'],\n",
    "[450, 300, 350, 500, 450, 370, 290]."
   ]
  },
  {
   "cell_type": "code",
   "execution_count": 1,
   "id": "e1ea1465",
   "metadata": {},
   "outputs": [],
   "source": [
    "import pandas as pd\n",
    "import numpy as np"
   ]
  },
  {
   "cell_type": "code",
   "execution_count": 2,
   "id": "5bfc097f",
   "metadata": {},
   "outputs": [
    {
     "name": "stdout",
     "output_type": "stream",
     "text": [
      "   author_id author_name\n",
      "0          1    Тургенев\n",
      "1          2       Чехов\n",
      "2          3  Островский\n"
     ]
    }
   ],
   "source": [
    "author_id = [1, 2, 3]\n",
    "author_name = ['Тургенев', 'Чехов', 'Островский']\n",
    "author = pd.DataFrame({\n",
    "    'author_id': author_id,\n",
    "    'author_name': author_name\n",
    "})\n",
    "print(author)"
   ]
  },
  {
   "cell_type": "code",
   "execution_count": 3,
   "id": "7846bffb",
   "metadata": {},
   "outputs": [
    {
     "name": "stdout",
     "output_type": "stream",
     "text": [
      "   author_id            book_title  price\n",
      "0          1           Отцы и дети    450\n",
      "1          1                 Рудин    300\n",
      "2          1     Дворянское гнездо    350\n",
      "3          2      Толстый и тонкий    500\n",
      "4          2       Дама с собачкой    450\n",
      "5          3                 Гроза    370\n",
      "6          3  Таланты и поклонники    290\n"
     ]
    }
   ],
   "source": [
    "author_id = [1, 1, 1, 2, 2, 3, 3]\n",
    "book_title = [\n",
    "    'Отцы и дети', \n",
    "    'Рудин', 'Дворянское гнездо', \n",
    "    'Толстый и тонкий', \n",
    "    'Дама с собачкой', \n",
    "    'Гроза', \n",
    "    'Таланты и поклонники'\n",
    "]\n",
    "price = [450, 300, 350, 500, 450, 370, 290]\n",
    "book = pd.DataFrame({\n",
    "    'author_id': author_id,\n",
    "    'book_title': book_title,\n",
    "    'price': price\n",
    "})\n",
    "print(book)"
   ]
  },
  {
   "cell_type": "markdown",
   "id": "011fc20d",
   "metadata": {},
   "source": [
    "Задание 2.\n",
    "Получите датафрейм authors_price, соединив датафреймы authors и books по полю author_id."
   ]
  },
  {
   "cell_type": "code",
   "execution_count": 4,
   "id": "2a3f37d5",
   "metadata": {},
   "outputs": [
    {
     "name": "stdout",
     "output_type": "stream",
     "text": [
      "   author_id author_name            book_title  price\n",
      "0          1    Тургенев           Отцы и дети    450\n",
      "1          1    Тургенев                 Рудин    300\n",
      "2          1    Тургенев     Дворянское гнездо    350\n",
      "3          2       Чехов      Толстый и тонкий    500\n",
      "4          2       Чехов       Дама с собачкой    450\n",
      "5          3  Островский                 Гроза    370\n",
      "6          3  Островский  Таланты и поклонники    290\n"
     ]
    }
   ],
   "source": [
    "author_price = pd.merge(author, book, on='author_id', how='outer')    #how='inner', 'left', 'right' or 'outer'\n",
    "print(author_price)"
   ]
  },
  {
   "cell_type": "markdown",
   "id": "f154635e",
   "metadata": {},
   "source": [
    "Задание 3\n",
    "Создайте датафрейм top5, в котором содержатся строки из authors_price с пятью самыми дорогими книгами."
   ]
  },
  {
   "cell_type": "code",
   "execution_count": 5,
   "id": "ac03238e",
   "metadata": {},
   "outputs": [
    {
     "name": "stdout",
     "output_type": "stream",
     "text": [
      "   author_id author_name         book_title  price\n",
      "3          2       Чехов   Толстый и тонкий    500\n",
      "0          1    Тургенев        Отцы и дети    450\n",
      "4          2       Чехов    Дама с собачкой    450\n",
      "5          3  Островский              Гроза    370\n",
      "2          1    Тургенев  Дворянское гнездо    350\n"
     ]
    }
   ],
   "source": [
    "top5 = author_price.nlargest(5, 'price')\n",
    "print(top5)\n"
   ]
  },
  {
   "cell_type": "markdown",
   "id": "5830fb31",
   "metadata": {},
   "source": [
    "Задание 4\n",
    "Создайте датафрейм authors_stat на основе информации из authors_price. В датафрейме authors_stat должны быть четыре столбца:\n",
    "author_name, min_price, max_price и mean_price,\n",
    "в которых должны содержаться соответственно имя автора, минимальная, максимальная и средняя цена на книги этого автора."
   ]
  },
  {
   "cell_type": "code",
   "execution_count": 6,
   "id": "ffb3911d",
   "metadata": {},
   "outputs": [
    {
     "name": "stdout",
     "output_type": "stream",
     "text": [
      "             max_price  min_price  mean_price\n",
      "author_name                                  \n",
      "Островский         370        290  330.000000\n",
      "Тургенев           450        300  366.666667\n",
      "Чехов              500        450  475.000000\n"
     ]
    }
   ],
   "source": [
    "author_stat = author_price.groupby('author_name')\n",
    "# print(author_stat)\n",
    "author_stat = pd.DataFrame({\n",
    "    'max_price': author_stat['price'].max(),\n",
    "    'min_price': author_stat['price'].min(),\n",
    "    'mean_price': author_stat['price'].mean()\n",
    "})\n",
    "print(author_stat)"
   ]
  },
  {
   "cell_type": "markdown",
   "id": "bff732fe",
   "metadata": {},
   "source": [
    "Задание 5**\n",
    "Создайте новый столбец в датафрейме authors_price под названием cover, в нем будут располагаться данные о том, какая обложка у данной книги - твердая или мягкая. В этот столбец поместите данные из следующего списка:\n",
    "['твердая', 'мягкая', 'мягкая', 'твердая', 'твердая', 'мягкая', 'мягкая'].\n",
    "Просмотрите документацию по функции pd.pivot_table с помощью вопросительного знака.Для каждого автора посчитайте суммарную стоимость книг в твердой и мягкой обложке. Используйте для этого функцию pd.pivot_table. При этом столбцы должны называться \"твердая\" и \"мягкая\", а индексами должны быть фамилии авторов. Пропущенные значения стоимостей заполните нулями, при необходимости загрузите библиотеку Numpy.\n",
    "Назовите полученный датасет book_info и сохраните его в формат pickle под названием \"book_info.pkl\". Затем загрузите из этого файла датафрейм и назовите его book_info2. Удостоверьтесь, что датафреймы book_info и book_info2 идентичны.\n"
   ]
  },
  {
   "cell_type": "code",
   "execution_count": 7,
   "id": "9b89ab73",
   "metadata": {},
   "outputs": [],
   "source": [
    "?pd.pivot_table"
   ]
  },
  {
   "cell_type": "code",
   "execution_count": 8,
   "id": "8391068f",
   "metadata": {},
   "outputs": [
    {
     "name": "stdout",
     "output_type": "stream",
     "text": [
      "   author_id author_name            book_title    cover  price\n",
      "0          1    Тургенев           Отцы и дети  твердая    450\n",
      "1          1    Тургенев                 Рудин   мягкая    300\n",
      "2          1    Тургенев     Дворянское гнездо   мягкая    350\n",
      "3          2       Чехов      Толстый и тонкий  твердая    500\n",
      "4          2       Чехов       Дама с собачкой  твердая    450\n",
      "5          3  Островский                 Гроза   мягкая    370\n",
      "6          3  Островский  Таланты и поклонники   мягкая    290\n"
     ]
    }
   ],
   "source": [
    "cover = ['твердая', 'мягкая', 'мягкая', 'твердая', 'твердая', 'мягкая', 'мягкая']\n",
    "author_price.insert(3, 'cover', cover, True)\n",
    "print(author_price)"
   ]
  },
  {
   "cell_type": "code",
   "execution_count": 9,
   "id": "ffb4f8e6",
   "metadata": {},
   "outputs": [
    {
     "name": "stdout",
     "output_type": "stream",
     "text": [
      "             price        \n",
      "cover       мягкая твердая\n",
      "author_name               \n",
      "Островский     660       0\n",
      "Тургенев       650     450\n",
      "Чехов            0     950\n"
     ]
    }
   ],
   "source": [
    "book_info = pd.pivot_table(\n",
    "    author_price,\n",
    "    index=['author_name'],\n",
    "    columns=['cover'],\n",
    "    values=['price'],\n",
    "    aggfunc='sum',\n",
    "    fill_value=0\n",
    ")\n",
    "print(book_info)\n"
   ]
  },
  {
   "cell_type": "code",
   "execution_count": 10,
   "id": "b83e89ca",
   "metadata": {},
   "outputs": [],
   "source": [
    "book_info.to_pickle('book_info.pkl')"
   ]
  },
  {
   "cell_type": "code",
   "execution_count": 11,
   "id": "eb1edae4",
   "metadata": {},
   "outputs": [
    {
     "name": "stdout",
     "output_type": "stream",
     "text": [
      "             price        \n",
      "cover       мягкая твердая\n",
      "author_name               \n",
      "Островский     660       0\n",
      "Тургенев       650     450\n",
      "Чехов            0     950\n"
     ]
    }
   ],
   "source": [
    "book_info2 = pd.read_pickle('book_info.pkl')\n",
    "print(book_info2)"
   ]
  },
  {
   "cell_type": "code",
   "execution_count": 12,
   "id": "ed762c36",
   "metadata": {},
   "outputs": [
    {
     "data": {
      "text/plain": [
       "True"
      ]
     },
     "execution_count": 12,
     "metadata": {},
     "output_type": "execute_result"
    }
   ],
   "source": [
    "book_info.equals(book_info2)"
   ]
  }
 ],
 "metadata": {
  "kernelspec": {
   "display_name": "Python 3 (ipykernel)",
   "language": "python",
   "name": "python3"
  },
  "language_info": {
   "codemirror_mode": {
    "name": "ipython",
    "version": 3
   },
   "file_extension": ".py",
   "mimetype": "text/x-python",
   "name": "python",
   "nbconvert_exporter": "python",
   "pygments_lexer": "ipython3",
   "version": "3.9.6"
  }
 },
 "nbformat": 4,
 "nbformat_minor": 5
}
