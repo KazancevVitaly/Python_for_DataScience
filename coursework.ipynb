{
 "cells": [
  {
   "cell_type": "markdown",
   "id": "7f46f8c6",
   "metadata": {},
   "source": [
    "Курсовая\n",
    "\n",
    "Требования к курсовому проекту:\n",
    "\n",
    "Нужно будет оформить ноутбук с основными этапами:\n",
    "1. подготовка данных\n",
    "    * анализ\n",
    "    * визуализация\n",
    "    * обработка выбросов\n",
    "    * обработка пропусков\n",
    "    * генерация фичей\n",
    "2. обучение модели\n",
    "3. проверка качества модели\n",
    "\n",
    "Так же надо отправить файл с предсказаниями на kaggle и на private leaderboard получить больше 0.6\n",
    "\n",
    "Данные для курсового можно брать отсюда (https://www.kaggle.com/t/b4c9382d4f934176af9fe860b1976528): (вкладка data)\n",
    "\n",
    "\n",
    "________________________\n",
    "За шаблон оформления курсовой можно взять ноутбук, который будем разбирать на уроке 10: https://www.kaggle.com/julichitai/baseline\n",
    "\n",
    "\n",
    "Что обязательно стоит попробовать:\n",
    "\n",
    "1. Тщательный анализ данных\n",
    "2. Поиск странных значений\n",
    "3. Предобработка данных\n",
    "4. Генерация разнообразных признаков\n",
    "5. Разные модели и их разные гиперпараметры\n",
    "\n",
    "Что не стоит пробовать:\n",
    "\n",
    "1. Кластеризация\n",
    "2. Модели понижения размерности"
   ]
  },
  {
   "cell_type": "code",
   "execution_count": 1,
   "id": "a44c015c",
   "metadata": {},
   "outputs": [],
   "source": [
    "import numpy as np\n",
    "import pandas as pd\n",
    "import matplotlib.pyplot as plt\n",
    "\n",
    "from sklearn.model_selection import train_test_split, cross_val_score\n",
    "from sklearn.preprocessing import StandardScaler, RobustScaler\n",
    "from sklearn.ensemble import RandomForestRegressor\n",
    "from sklearn.metrics import r2_score as r2\n",
    "from sklearn.model_selection import KFold, GridSearchCV\n",
    "\n",
    "from datetime import datetime\n",
    "import random\n",
    "\n",
    "import seaborn as sns\n",
    "\n",
    "%matplotlib inline\n",
    "%config InlineBackend.figure_format = 'svg'"
   ]
  },
  {
   "cell_type": "code",
   "execution_count": null,
   "id": "d98b0986",
   "metadata": {},
   "outputs": [],
   "source": []
  }
 ],
 "metadata": {
  "kernelspec": {
   "display_name": "Python 3",
   "language": "python",
   "name": "python3"
  },
  "language_info": {
   "codemirror_mode": {
    "name": "ipython",
    "version": 3
   },
   "file_extension": ".py",
   "mimetype": "text/x-python",
   "name": "python",
   "nbconvert_exporter": "python",
   "pygments_lexer": "ipython3",
   "version": "3.8.8"
  }
 },
 "nbformat": 4,
 "nbformat_minor": 5
}
