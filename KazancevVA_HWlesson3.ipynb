{
 "cells": [
  {
   "cell_type": "markdown",
   "id": "2bdf5f86",
   "metadata": {},
   "source": [
    "# ДЗ урока 3"
   ]
  },
  {
   "cell_type": "markdown",
   "id": "0e59c8b2",
   "metadata": {},
   "source": [
    "### 1 Для чего и в каких случаях полезны различные варианты усреднения для метрик качества классификации: micro, macro, weighted?"
   ]
  },
  {
   "cell_type": "markdown",
   "id": "a9895344",
   "metadata": {},
   "source": [
    "### micro\n",
    "Предпочтительнее когда наблюдается дисбаланс классов при многоклассоыой классификации. Оценку микроусреднения необходимо использовать когда важное значение имеет каждый экземпляр класса или прогноз."
   ]
  },
  {
   "cell_type": "markdown",
   "id": "caef3f9c",
   "metadata": {},
   "source": [
    "### macro\n",
    "Очценка макроусреднения используется, когда необходимо одинаково относиться ко всем классам, чтобы оценить общую производительность классификатора в отношении наиболее частых меток классов."
   ]
  },
  {
   "cell_type": "markdown",
   "id": "5c4fd0ff",
   "metadata": {},
   "source": [
    "### weighted\n",
    "Используется в случае дисбаланса классов(разное количество экземпляров, связанных с разными метками класса)"
   ]
  },
  {
   "cell_type": "markdown",
   "id": "38ffdc7d",
   "metadata": {},
   "source": [
    "### 2 В чём разница между моделями xgboost, lightgbm и catboost или какие их основные особенности?"
   ]
  },
  {
   "cell_type": "markdown",
   "id": "46cd8b14",
   "metadata": {},
   "source": [
    "### XGBoost\n",
    "Принимает только числовые данные и не может обрабатывать категориальные признаки. Поэтому категориальные данные перед подачей в  XGBoost необходимо специальным образом закодировать"
   ]
  },
  {
   "cell_type": "markdown",
   "id": "2eb9769e",
   "metadata": {},
   "source": [
    "### LightGBM\n",
    "\n",
    "Может обрабатывать категориальные признаки. Использует специальный алгоритм, чтобы найти значение разделения категориальных признаков"
   ]
  },
  {
   "cell_type": "markdown",
   "id": "12fe77ff",
   "metadata": {},
   "source": [
    "### CatBoost\n",
    "Обладает гибкостью, позволяя задавть индексы для категориальных столбцов, чтобы можно было кодировать категориальные признаки"
   ]
  }
 ],
 "metadata": {
  "kernelspec": {
   "display_name": "Python 3",
   "language": "python",
   "name": "python3"
  },
  "language_info": {
   "codemirror_mode": {
    "name": "ipython",
    "version": 3
   },
   "file_extension": ".py",
   "mimetype": "text/x-python",
   "name": "python",
   "nbconvert_exporter": "python",
   "pygments_lexer": "ipython3",
   "version": "3.8.8"
  }
 },
 "nbformat": 4,
 "nbformat_minor": 5
}
